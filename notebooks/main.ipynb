{
 "cells": [
  {
   "cell_type": "markdown",
   "metadata": {},
   "source": [
    "# Main\n",
    "### About\n",
    "The current languages you can use to generate code are:\n",
    "- HTML\n",
    "- JavaScript\n",
    "- Python\n",
    "\n",
    "### Templates\n",
    "The current templates you can do are the following:\n",
    "- Hello World\n",
    "- Base Templates\n",
    "- More coming soon\n",
    "\n",
    "# Examples\n",
    "Here are how to generate code using Fun:\n",
    "\n",
    "### Hello World\n",
    "Hello Worlds are a how to print hello world to the terminal in these languages."
   ]
  },
  {
   "cell_type": "code",
   "execution_count": null,
   "metadata": {},
   "outputs": [],
   "source": [
    "from fun import *\n",
    "\n",
    "generate.python('Hello World') # Python\n",
    "generate.html('Hello World') # HTML\n",
    "generate.javascript('Hello World') # JavaScript/JS"
   ]
  },
  {
   "cell_type": "markdown",
   "metadata": {},
   "source": [
    "### Templates\n",
    "Templates are a function and hello world or for HTML is a basic website."
   ]
  },
  {
   "cell_type": "code",
   "execution_count": null,
   "metadata": {},
   "outputs": [],
   "source": [
    "from fun import *\n",
    "\n",
    "generate.python('Template') # Python\n",
    "generate.html('Template') # HTML\n",
    "generate.javascript('Template') # JavaScript/JS"
   ]
  },
  {
   "cell_type": "markdown",
   "metadata": {},
   "source": [
    "# How to test these features\n",
    "### Steps\n",
    "1. Create a blank Python file\n",
    "2. Choose a generator such as Hello World for Python\n",
    "3. Then make another blank Python file and do the same thing but time both tests\n",
    "4. Check time to see how long it took you\n",
    "5. Put a comment somewhere saying how long it took you\n",
    "6. Create a pull request to us and we will add it to the repository in the tests folder\n",
    "\n",
    "### Example of how to do that\n",
    "This kind of should be what you're experiment should look like"
   ]
  },
  {
   "cell_type": "code",
   "execution_count": null,
   "metadata": {},
   "outputs": [],
   "source": [
    "from fun import *\n",
    "\n",
    "generate.python('Hello World') # 1.0 Seconds"
   ]
  },
  {
   "cell_type": "code",
   "execution_count": null,
   "metadata": {},
   "outputs": [],
   "source": [
    "print('Hello, World!') # 1.5 Seconds"
   ]
  }
 ],
 "metadata": {
  "language_info": {
   "name": "python"
  },
  "orig_nbformat": 4
 },
 "nbformat": 4,
 "nbformat_minor": 2
}

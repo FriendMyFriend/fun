{
 "cells": [
  {
   "cell_type": "markdown",
   "metadata": {},
   "source": [
    "# Main\n",
    "### About\n",
    "The current languages you can use to generate code are:\n",
    "- HTML\n",
    "- JavaScript\n",
    "- Python\n",
    "\n",
    "# Examples\n",
    "Here are how to generate code using Fun:\n",
    "\n",
    "### Hello World\n",
    "Hello Worlds are a how to print hello world to the terminal in these languages."
   ]
  },
  {
   "cell_type": "code",
   "execution_count": null,
   "metadata": {},
   "outputs": [],
   "source": [
    "from fun import *\n",
    "\n",
    "generate.python('Hello World') # Python\n",
    "generate.html('Hello World') # HTML\n",
    "generate.javascript('Hello World') # JavaScript/JS"
   ]
  },
  {
   "cell_type": "markdown",
   "metadata": {},
   "source": [
    "### Templates\n",
    "Templates are a function and hello world or for HTML is a basic website."
   ]
  },
  {
   "cell_type": "code",
   "execution_count": null,
   "metadata": {},
   "outputs": [],
   "source": [
    "from fun import *\n",
    "\n",
    "generate.python('Template') # Python\n",
    "generate.html('Template') # HTML\n",
    "generate.javascript('Template') # JavaScript/JS"
   ]
  }
 ],
 "metadata": {
  "language_info": {
   "name": "python"
  },
  "orig_nbformat": 4
 },
 "nbformat": 4,
 "nbformat_minor": 2
}
